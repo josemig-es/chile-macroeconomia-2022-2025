





import pandas as pd
import matplotlib.pyplot as plt
import numpy as np
from statistics import mean, stdev, median


df = pd.read_excel("datos/económicos/pib 2015-2025 trimestral.xlsx", skiprows=2)
df = df.iloc[:,2:]
df = df.melt(var_name="FECHA", value_name="PIB")
df["FECHA"] = pd.to_datetime(df["FECHA"])


# Calcular la variación porcentual del PIB trimestre a trimestre
# La función "pct.change()" de pandas ya calcula la variación respecto al periodo anterior. 
df["PIB_var_pct"] = df["PIB"].pct_change() * 100


df


x = range(len(df))
plt.figure(figsize=(14,6))
plt.bar(x, df["PIB_var_pct"], color="royalblue")
plt.xticks(x[::4], labels[::4], rotation=45)
plt.title("Variación porcentual trimestral del PIB")
plt.xlabel("Trimestre")
plt.ylabel("Variación %")
plt.grid(axis='y')
plt.tight_layout()
plt.show()


df_part = pd.read_excel("datos/económicos/part cada sector %pib.xlsx", skiprows=2)
df_part.head()


sectores = ["1. Agropecuario-silvícola", "2. Pesca", "3. Minería",
           "4. Industria Manufacturera", "5. Electricidad, gas, agua y gestión de desechos", "6. Construcción",
           "7. Comercio, restaurantes y hoteles", "8. Transporte", "9. Comunicaciones y servicios de información",
           "10. Servicios financieros y empresariales", "11. Servicios de vivienda e inmobiliarios", "12. Servicios personales",
           "13. Administración pública", "14. Impuestos sobre los productos"]


df_part[["Periodo"] + sectores].set_index("Periodo").plot.area(
    figsize=(10,5),
    colormap="tab20",
    linewidth=0
)
