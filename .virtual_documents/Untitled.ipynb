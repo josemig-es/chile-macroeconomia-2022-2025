





import pandas as pd
import matplotlib.pyplot as plt
import numpy as np
from statistics import mean, stdev, median


df = pd.read_excel("datos/económicos/pib 2015-2025 trimestral.xlsx", skiprows=2)
df.head()


df = df.iloc[:, 2:]


df = df.melt() #Girar columnas y filas


# Estadísticas descrpitivas 
df.describe()


df.iloc[:, 1].median()


plt.plot(df.iloc[:, 1:])
plt.title("Evolución del PIB a precios corrientes, referencia 2018 (miles de millones de pesos)")
plt.ylabel("PIB a precios corrientes")
plt.xlabel("Tiempo")
plt.xticks(ticks=to_n(0,40,4), labels=to_n(2015, 2025, 1))


plt.show()


def to_n(min, max, steps):
    """
    Básicamente un range() pero devuelve los valores en una lista
    Inputs:
        min: Número entero desde cual comienza
        max: Número entero hasta cual llega, este incluido
        steps: Número entero de cuanto en cuanto
    Returns:
        a: Lista con dichos valores
    """
    a = []
    for i in range(min, max+1, steps):
        a.append(i)
    return a
