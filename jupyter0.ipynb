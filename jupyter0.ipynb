{
 "cells": [
  {
   "cell_type": "markdown",
   "id": "06266964-fcdf-458c-908d-c261a71f3dd6",
   "metadata": {},
   "source": [
    "# Análisis exploratorio de los datos (EDA)\n",
    "\n",
    "El análisis exploratorio de datos (EDA) es utilizado por los científicos de datos para analizar e investigar conjuntos de datos y resumir sus características principales, a menudo empleando métodos de visualización de datos.\n",
    "\n",
    "https://www.ibm.com/es-es/think/topics/exploratory-data-analysis"
   ]
  },
  {
   "cell_type": "markdown",
   "id": "05f7a9eb-ef04-4fa6-9d5b-b3f13944d7c0",
   "metadata": {},
   "source": [
    "## Producto interno bruto, referencia 2018 (miles de millones de pesos)"
   ]
  },
  {
   "cell_type": "code",
   "execution_count": 97,
   "id": "551a7eb2-f5ee-498e-bbc6-3669ba8b4422",
   "metadata": {},
   "outputs": [],
   "source": [
    "import pandas as pd\n",
    "import matplotlib.pyplot as plt\n",
    "import numpy as np\n",
    "from statistics import mean, stdev, median"
   ]
  },
  {
   "cell_type": "code",
   "execution_count": 69,
   "id": "d495a442-cfdd-495e-9a9e-449bbe6785bd",
   "metadata": {
    "scrolled": true
   },
   "outputs": [
    {
     "data": {
      "text/html": [
       "<div>\n",
       "<style scoped>\n",
       "    .dataframe tbody tr th:only-of-type {\n",
       "        vertical-align: middle;\n",
       "    }\n",
       "\n",
       "    .dataframe tbody tr th {\n",
       "        vertical-align: top;\n",
       "    }\n",
       "\n",
       "    .dataframe thead th {\n",
       "        text-align: right;\n",
       "    }\n",
       "</style>\n",
       "<table border=\"1\" class=\"dataframe\">\n",
       "  <thead>\n",
       "    <tr style=\"text-align: right;\">\n",
       "      <th></th>\n",
       "      <th>Reg</th>\n",
       "      <th>Descripción series</th>\n",
       "      <th>2015-03-01 00:00:00</th>\n",
       "      <th>2015-06-01 00:00:00</th>\n",
       "      <th>2015-09-01 00:00:00</th>\n",
       "      <th>2015-12-01 00:00:00</th>\n",
       "      <th>2016-03-01 00:00:00</th>\n",
       "      <th>2016-06-01 00:00:00</th>\n",
       "      <th>2016-09-01 00:00:00</th>\n",
       "      <th>2016-12-01 00:00:00</th>\n",
       "      <th>...</th>\n",
       "      <th>2022-12-01 00:00:00</th>\n",
       "      <th>2023-03-01 00:00:00</th>\n",
       "      <th>2023-06-01 00:00:00</th>\n",
       "      <th>2023-09-01 00:00:00</th>\n",
       "      <th>2023-12-01 00:00:00</th>\n",
       "      <th>2024-03-01 00:00:00</th>\n",
       "      <th>2024-06-01 00:00:00</th>\n",
       "      <th>2024-09-01 00:00:00</th>\n",
       "      <th>2024-12-01 00:00:00</th>\n",
       "      <th>2025-03-01 00:00:00</th>\n",
       "    </tr>\n",
       "  </thead>\n",
       "  <tbody>\n",
       "    <tr>\n",
       "      <th>0</th>\n",
       "      <td>1.0</td>\n",
       "      <td>PIB a precios corrientes</td>\n",
       "      <td>39272.406466</td>\n",
       "      <td>39194.111733</td>\n",
       "      <td>37973.235565</td>\n",
       "      <td>42183.149088</td>\n",
       "      <td>42081.767449</td>\n",
       "      <td>41215.023432</td>\n",
       "      <td>40592.644573</td>\n",
       "      <td>44875.252463</td>\n",
       "      <td>...</td>\n",
       "      <td>71762.497418</td>\n",
       "      <td>69629.831269</td>\n",
       "      <td>68652.20458</td>\n",
       "      <td>68191.658008</td>\n",
       "      <td>75383.792594</td>\n",
       "      <td>76532.681123</td>\n",
       "      <td>75091.540332</td>\n",
       "      <td>75344.195615</td>\n",
       "      <td>84662.461428</td>\n",
       "      <td>82042.344694</td>\n",
       "    </tr>\n",
       "  </tbody>\n",
       "</table>\n",
       "<p>1 rows × 43 columns</p>\n",
       "</div>"
      ],
      "text/plain": [
       "   Reg         Descripción series  2015-03-01 00:00:00  2015-06-01 00:00:00  \\\n",
       "0  1.0  PIB a precios corrientes          39272.406466         39194.111733   \n",
       "\n",
       "   2015-09-01 00:00:00  2015-12-01 00:00:00  2016-03-01 00:00:00  \\\n",
       "0         37973.235565         42183.149088         42081.767449   \n",
       "\n",
       "   2016-06-01 00:00:00  2016-09-01 00:00:00  2016-12-01 00:00:00  ...  \\\n",
       "0         41215.023432         40592.644573         44875.252463  ...   \n",
       "\n",
       "   2022-12-01 00:00:00  2023-03-01 00:00:00  2023-06-01 00:00:00  \\\n",
       "0         71762.497418         69629.831269          68652.20458   \n",
       "\n",
       "   2023-09-01 00:00:00  2023-12-01 00:00:00  2024-03-01 00:00:00  \\\n",
       "0         68191.658008         75383.792594         76532.681123   \n",
       "\n",
       "   2024-06-01 00:00:00  2024-09-01 00:00:00  2024-12-01 00:00:00  \\\n",
       "0         75091.540332         75344.195615         84662.461428   \n",
       "\n",
       "   2025-03-01 00:00:00  \n",
       "0         82042.344694  \n",
       "\n",
       "[1 rows x 43 columns]"
      ]
     },
     "execution_count": 69,
     "metadata": {},
     "output_type": "execute_result"
    }
   ],
   "source": [
    "df = pd.read_excel(\"datos/económicos/pib 2015-2025 trimestral.xlsx\", skiprows=2)\n",
    "df.head()"
   ]
  },
  {
   "cell_type": "code",
   "execution_count": 70,
   "id": "87bffcb2-d44c-4541-9e13-c7d02d44a084",
   "metadata": {
    "scrolled": true
   },
   "outputs": [
    {
     "data": {
      "text/html": [
       "<div>\n",
       "<style scoped>\n",
       "    .dataframe tbody tr th:only-of-type {\n",
       "        vertical-align: middle;\n",
       "    }\n",
       "\n",
       "    .dataframe tbody tr th {\n",
       "        vertical-align: top;\n",
       "    }\n",
       "\n",
       "    .dataframe thead th {\n",
       "        text-align: right;\n",
       "    }\n",
       "</style>\n",
       "<table border=\"1\" class=\"dataframe\">\n",
       "  <thead>\n",
       "    <tr style=\"text-align: right;\">\n",
       "      <th></th>\n",
       "      <th>2015-03-01</th>\n",
       "      <th>2015-06-01</th>\n",
       "      <th>2015-09-01</th>\n",
       "      <th>2015-12-01</th>\n",
       "      <th>2016-03-01</th>\n",
       "      <th>2016-06-01</th>\n",
       "      <th>2016-09-01</th>\n",
       "      <th>2016-12-01</th>\n",
       "      <th>2017-03-01</th>\n",
       "      <th>2017-06-01</th>\n",
       "      <th>...</th>\n",
       "      <th>2022-12-01</th>\n",
       "      <th>2023-03-01</th>\n",
       "      <th>2023-06-01</th>\n",
       "      <th>2023-09-01</th>\n",
       "      <th>2023-12-01</th>\n",
       "      <th>2024-03-01</th>\n",
       "      <th>2024-06-01</th>\n",
       "      <th>2024-09-01</th>\n",
       "      <th>2024-12-01</th>\n",
       "      <th>2025-03-01</th>\n",
       "    </tr>\n",
       "  </thead>\n",
       "  <tbody>\n",
       "    <tr>\n",
       "      <th>0</th>\n",
       "      <td>39272.406466</td>\n",
       "      <td>39194.111733</td>\n",
       "      <td>37973.235565</td>\n",
       "      <td>42183.149088</td>\n",
       "      <td>42081.767449</td>\n",
       "      <td>41215.023432</td>\n",
       "      <td>40592.644573</td>\n",
       "      <td>44875.252463</td>\n",
       "      <td>43548.741828</td>\n",
       "      <td>43858.3508</td>\n",
       "      <td>...</td>\n",
       "      <td>71762.497418</td>\n",
       "      <td>69629.831269</td>\n",
       "      <td>68652.20458</td>\n",
       "      <td>68191.658008</td>\n",
       "      <td>75383.792594</td>\n",
       "      <td>76532.681123</td>\n",
       "      <td>75091.540332</td>\n",
       "      <td>75344.195615</td>\n",
       "      <td>84662.461428</td>\n",
       "      <td>82042.344694</td>\n",
       "    </tr>\n",
       "  </tbody>\n",
       "</table>\n",
       "<p>1 rows × 41 columns</p>\n",
       "</div>"
      ],
      "text/plain": [
       "     2015-03-01    2015-06-01    2015-09-01    2015-12-01    2016-03-01  \\\n",
       "0  39272.406466  39194.111733  37973.235565  42183.149088  42081.767449   \n",
       "\n",
       "     2016-06-01    2016-09-01    2016-12-01    2017-03-01  2017-06-01  ...  \\\n",
       "0  41215.023432  40592.644573  44875.252463  43548.741828  43858.3508  ...   \n",
       "\n",
       "     2022-12-01    2023-03-01   2023-06-01    2023-09-01    2023-12-01  \\\n",
       "0  71762.497418  69629.831269  68652.20458  68191.658008  75383.792594   \n",
       "\n",
       "     2024-03-01    2024-06-01    2024-09-01    2024-12-01    2025-03-01  \n",
       "0  76532.681123  75091.540332  75344.195615  84662.461428  82042.344694  \n",
       "\n",
       "[1 rows x 41 columns]"
      ]
     },
     "execution_count": 70,
     "metadata": {},
     "output_type": "execute_result"
    }
   ],
   "source": [
    "df = df.iloc[:, 2:]"
   ]
  },
  {
   "cell_type": "code",
   "execution_count": 71,
   "id": "f6886783-f440-4f8b-92b8-33e44f1a1fd2",
   "metadata": {
    "scrolled": true
   },
   "outputs": [],
   "source": [
    "df = df.melt() #Girar columnas y filas"
   ]
  },
  {
   "cell_type": "code",
   "execution_count": 72,
   "id": "055f7782-d894-42bc-9bef-105b5ac2c0ef",
   "metadata": {
    "scrolled": true
   },
   "outputs": [
    {
     "data": {
      "text/html": [
       "<div>\n",
       "<style scoped>\n",
       "    .dataframe tbody tr th:only-of-type {\n",
       "        vertical-align: middle;\n",
       "    }\n",
       "\n",
       "    .dataframe tbody tr th {\n",
       "        vertical-align: top;\n",
       "    }\n",
       "\n",
       "    .dataframe thead th {\n",
       "        text-align: right;\n",
       "    }\n",
       "</style>\n",
       "<table border=\"1\" class=\"dataframe\">\n",
       "  <thead>\n",
       "    <tr style=\"text-align: right;\">\n",
       "      <th></th>\n",
       "      <th>value</th>\n",
       "    </tr>\n",
       "  </thead>\n",
       "  <tbody>\n",
       "    <tr>\n",
       "      <th>count</th>\n",
       "      <td>41.000000</td>\n",
       "    </tr>\n",
       "    <tr>\n",
       "      <th>mean</th>\n",
       "      <td>55388.807610</td>\n",
       "    </tr>\n",
       "    <tr>\n",
       "      <th>std</th>\n",
       "      <td>13384.151709</td>\n",
       "    </tr>\n",
       "    <tr>\n",
       "      <th>min</th>\n",
       "      <td>37973.235565</td>\n",
       "    </tr>\n",
       "    <tr>\n",
       "      <th>25%</th>\n",
       "      <td>44875.252463</td>\n",
       "    </tr>\n",
       "    <tr>\n",
       "      <th>50%</th>\n",
       "      <td>50385.108070</td>\n",
       "    </tr>\n",
       "    <tr>\n",
       "      <th>75%</th>\n",
       "      <td>67065.221693</td>\n",
       "    </tr>\n",
       "    <tr>\n",
       "      <th>max</th>\n",
       "      <td>84662.461428</td>\n",
       "    </tr>\n",
       "  </tbody>\n",
       "</table>\n",
       "</div>"
      ],
      "text/plain": [
       "              value\n",
       "count     41.000000\n",
       "mean   55388.807610\n",
       "std    13384.151709\n",
       "min    37973.235565\n",
       "25%    44875.252463\n",
       "50%    50385.108070\n",
       "75%    67065.221693\n",
       "max    84662.461428"
      ]
     },
     "execution_count": 72,
     "metadata": {},
     "output_type": "execute_result"
    }
   ],
   "source": [
    "# Estadísticas descrpitivas \n",
    "df.describe()"
   ]
  },
  {
   "cell_type": "code",
   "execution_count": 88,
   "id": "bb8fe33d-8d56-45ea-b14c-04a7f0c83cdc",
   "metadata": {},
   "outputs": [
    {
     "data": {
      "text/plain": [
       "50385.108069954"
      ]
     },
     "execution_count": 88,
     "metadata": {},
     "output_type": "execute_result"
    }
   ],
   "source": [
    "df.iloc[:, 1].median()"
   ]
  },
  {
   "cell_type": "code",
   "execution_count": 164,
   "id": "c7be75b0-41a7-4c03-85ac-e451b76fdf8f",
   "metadata": {
    "scrolled": true
   },
   "outputs": [
    {
     "data": {
      "text/plain": [
       "([<matplotlib.axis.XTick at 0x2832a397350>,\n",
       "  <matplotlib.axis.XTick at 0x2832a394b90>,\n",
       "  <matplotlib.axis.XTick at 0x2832a0baed0>,\n",
       "  <matplotlib.axis.XTick at 0x2832a37fdd0>,\n",
       "  <matplotlib.axis.XTick at 0x2832a3bf710>,\n",
       "  <matplotlib.axis.XTick at 0x2832a3bfdd0>,\n",
       "  <matplotlib.axis.XTick at 0x2832a3e4650>,\n",
       "  <matplotlib.axis.XTick at 0x2832a3bf800>,\n",
       "  <matplotlib.axis.XTick at 0x2832a3bfc80>,\n",
       "  <matplotlib.axis.XTick at 0x2832a340b30>,\n",
       "  <matplotlib.axis.XTick at 0x2832a3bfad0>],\n",
       " [Text(0, 0, '2015'),\n",
       "  Text(4, 0, '2016'),\n",
       "  Text(8, 0, '2017'),\n",
       "  Text(12, 0, '2018'),\n",
       "  Text(16, 0, '2019'),\n",
       "  Text(20, 0, '2020'),\n",
       "  Text(24, 0, '2021'),\n",
       "  Text(28, 0, '2022'),\n",
       "  Text(32, 0, '2023'),\n",
       "  Text(36, 0, '2024'),\n",
       "  Text(40, 0, '2025')])"
      ]
     },
     "execution_count": 164,
     "metadata": {},
     "output_type": "execute_result"
    },
    {
     "data": {
      "image/png": "[encoded data removed]",
      "text/plain": [
       "<Figure size 640x480 with 1 Axes>"
      ]
     },
     "metadata": {},
     "output_type": "display_data"
    }
   ],
   "source": [
    "plt.plot(df.iloc[:, 1:])\n",
    "plt.title(\"Evolución del PIB a precios corrientes, referencia 2018 (miles de millones de pesos)\")\n",
    "plt.ylabel(\"PIB a precios corrientes\")\n",
    "plt.xlabel(\"Tiempo\")\n",
    "plt.xticks(ticks=to_n(0,40,4), labels=to_n(2015, 2025, 1))"
   ]
  },
  {
   "cell_type": "code",
   "execution_count": 168,
   "id": "0f1d07ce-4e82-4b5b-8636-57d3dd4b68ef",
   "metadata": {},
   "outputs": [],
   "source": [
    "plt.show()"
   ]
  },
  {
   "cell_type": "code",
   "execution_count": 160,
   "id": "b16b717c-ec1d-4495-93ef-1be235da366f",
   "metadata": {},
   "outputs": [],
   "source": [
    "def to_n(min, max, steps):\n",
    "    \"\"\"\n",
    "    Básicamente un range() pero devuelve los valores en una lista\n",
    "    Inputs:\n",
    "        min: Número entero desde cual comienza\n",
    "        max: Número entero hasta cual llega, este incluido\n",
    "        steps: Número entero de cuanto en cuanto\n",
    "    Returns:\n",
    "        a: Lista con dichos valores\n",
    "    \"\"\"\n",
    "    a = []\n",
    "    for i in range(min, max+1, steps):\n",
    "        a.append(i)\n",
    "    return a"
   ]
  }
 ],
 "metadata": {
  "kernelspec": {
   "display_name": "Python 3 (ipykernel)",
   "language": "python",
   "name": "python3"
  },
  "language_info": {
   "codemirror_mode": {
    "name": "ipython",
    "version": 3
   },
   "file_extension": ".py",
   "mimetype": "text/x-python",
   "name": "python",
   "nbconvert_exporter": "python",
   "pygments_lexer": "ipython3",
   "version": "3.12.7"
  }
 },
 "nbformat": 4,
 "nbformat_minor": 5
}
